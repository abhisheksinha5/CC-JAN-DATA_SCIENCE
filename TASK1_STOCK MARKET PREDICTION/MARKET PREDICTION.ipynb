# Task-1 : Stock Market Prediction
# Designed by - Abhishek Kumar Sinha




### Importing Libraries

import pandas as pd
import numpy as np
import seaborn as sb
import math
import matplotlib.pyplot as plt
from datetime import datetime

### Styling the graphs
plt.style.use('seaborn-darkgrid')
sb.set_style('whitegrid')
## Reading Data

# Dataset from Kaggle : https://www.kaggle.com/code/rishidamarla/stock-market-prediction-using-decision-tree/data?select=all_stocks_5yr.csv
# Reading data csv file
data = pd.read_csv("OHLC.csv")
print("Data imported successfully")

data.head(10)
data.describe()
data['Date'].value_counts()
s_data.dtypes
data['High'].hist()
plt.figure(figsize=(20,8))
data.plot()
# Historical Graph of the closing price
plt.figure(figsize=(16, 7))
plt.plot(data['Close'])
plt.show()
from sklearn.preprocessing import MinMaxScaler
scaler = MinMaxScaler(feature_range=(0,1))
df = scaler.fit_transform(np.array(data['Close']).reshape(-1,1))
### Splitting Dataset Into Train and Test Data
training_size = int(len(df)*0.75)
test_size = len(df)-training_size
train_data,test_data = df[0:training_size,:],df[training_size:len(df),:1]
training_size
test_size
# convert an array of values into a dataset matrix
def create_dataset(dataset, time_step=1):
	dataX, dataY = [], []
	for i in range(len(dataset)-time_step-1):
		a = dataset[i:(i+time_step), 0]
		dataX.append(a)
		dataY.append(dataset[i + time_step, 0])
	return np.array(dataX), np.array(dataY)
X_train, Y_train = create_dataset(train_data, 100)
X_test, Y_test = create_dataset(test_data, 100)
print(X_train.shape), print(Y_train.shape)
print(X_test.shape), print(Y_test.shape)
# Reshaping input to [samples, time steps, features] required for LSTM
X_train =X_train.reshape(X_train.shape[0],X_train.shape[1] , 1)
X_test = X_test.reshape(X_test.shape[0],X_test.shape[1] , 1)
# Importing Tensorflow Module
from tensorflow.keras.models import Sequential
from tensorflow.keras.layers import Dense, LSTM

# Build the LSTM model
model = Sequential()
model.add(LSTM(50,return_sequences=True,input_shape=(X_train.shape[1], 1)))
model.add(LSTM(50,return_sequences=True))
model.add(LSTM(50))
model.add(Dense(1))

# Compile the model
model.compile(loss='mean_squared_error', optimizer='adam')

# Train the model
model.fit(X_train, Y_train, batch_size=1, epochs=1)
model.save('stock_prediction_model.h5')

# Lets predict now and check performance metrics

train_predict = model.predict(X_train)
test_predict = model.predict(X_test)
train_predict = scaler.inverse_transform(train_predict)
test_predict = scaler.inverse_transform(test_predict)
### Calculate Root Mean Squared Error

from sklearn.metrics import mean_squared_error
print("Y Train:",math.sqrt(mean_squared_error(Y_train,train_predict)))
print("Y Test:",math.sqrt(mean_squared_error(Y_test,test_predict)))
